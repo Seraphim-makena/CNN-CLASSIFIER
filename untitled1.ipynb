{
  "nbformat": 4,
  "nbformat_minor": 0,
  "metadata": {
    "colab": {
      "provenance": [],
      "authorship_tag": "ABX9TyMQWwVUFmmnRZr0NikENcKF",
      "include_colab_link": true
    },
    "kernelspec": {
      "name": "python3",
      "display_name": "Python 3"
    },
    "language_info": {
      "name": "python"
    }
  },
  "cells": [
    {
      "cell_type": "markdown",
      "metadata": {
        "id": "view-in-github",
        "colab_type": "text"
      },
      "source": [
        "<a href=\"https://colab.research.google.com/github/Seraphim-makena/CNN-CLASSIFIER/blob/main/untitled1.ipynb\" target=\"_parent\"><img src=\"https://colab.research.google.com/assets/colab-badge.svg\" alt=\"Open In Colab\"/></a>"
      ]
    },
    {
      "cell_type": "code",
      "execution_count": null,
      "metadata": {
        "id": "LnNWkd-w2l9P"
      },
      "outputs": [],
      "source": [
        "import tensorflow as tf\n",
        "import numpy as np\n",
        "import matplotlib.pyplot as plt\n",
        "from tensorflow.keras import layers,models,datasets\n",
        "\n",
        "data=datasets.mnist.load_data()\n",
        "\n",
        "\n",
        "(x_train,Y_train),(x_test,Y_test)= data\n",
        "\n",
        "fig=plt.figure(figsize=(5,5))\n",
        "for i in range(25):\n",
        "  plt.subplot(5, 5, i + 1)\n",
        "  plt.imshow(x_train[i],cmap=plt.cm.binary)\n",
        "plt.show()\n",
        "\n",
        "from tensorflow.keras.utils import to_categorical\n",
        "Y_train=to_categorical(Y_train)\n",
        "Y_test=to_categorical(Y_test)\n",
        "\n",
        "print(\"Original data shape\")\n",
        "print(x_train.shape,Y_train.shape)\n",
        "print(x_test.shape,Y_test.shape)\n",
        "\n",
        "print(\"Reshaped data shape\")\n",
        "x_train=x_train.reshape(x_train.shape[0],28,28,1)\n",
        "x_test=x_test.reshape(x_test.shape[0],28,28,1)\n",
        "\n",
        "print(x_train.shape,Y_train.shape)\n",
        "print(x_test.shape,Y_test.shape)\n",
        "\n",
        "\n",
        "x_train=x_train/255.0\n",
        "x_test=x_test/255.0\n",
        "\n",
        "\n",
        "\n",
        "from tensorflow.keras.models import Sequential\n",
        "from tensorflow.keras.layers import Conv2D,MaxPooling2D,Flatten,Dense\n",
        "\n",
        "model=Sequential()\n",
        "model.add(Conv2D(32,(3,3),activation='relu',input_shape=(28,28,1)))\n",
        "model.add(MaxPooling2D((2,2)))\n",
        "model.add(Flatten())\n",
        "model.add(Dense(64,activation='relu'))\n",
        "model.add(Dense(10,activation='softmax'))\n",
        "\n",
        "\n",
        "model.compile(loss='categorical_crossentropy',optimizer='adam',metrics=['accuracy'])\n",
        "model.fit(x_train,Y_train,epochs=10,validation_split=0.2,)\n",
        "\n",
        "print(\"Evaluating the model...\")\n",
        "model.evaluate(x_test, Y_test)\n",
        "\n",
        "print(\"Making predictions...\")\n",
        "y_prediction = model.predict(x_test)\n",
        "print(y_prediction)\n",
        "\n",
        "\n",
        "image_to_predict = x_test[0]\n",
        "plt.imshow(image_to_predict.reshape(28, 28), cmap='gray')\n",
        "plt.show()\n",
        "\n",
        "predicted_number=model.predict(image_to_predict.reshape(1, 28, 28, 1))\n",
        "print(\"The number is:\",predicted_number.argmax())"
      ]
    }
  ]
}